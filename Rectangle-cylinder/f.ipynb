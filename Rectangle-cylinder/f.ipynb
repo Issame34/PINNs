{
 "cells": [
  {
   "cell_type": "markdown",
   "metadata": {},
   "source": [
    "**Defining the PDE**"
   ]
  },
  {
   "cell_type": "code",
   "execution_count": 1,
   "metadata": {},
   "outputs": [
    {
     "name": "stderr",
     "output_type": "stream",
     "text": [
      "Using backend: pytorch\n",
      "Other supported backends: tensorflow.compat.v1, tensorflow, jax, paddle.\n",
      "paddle supports more examples now and is recommended.\n"
     ]
    }
   ],
   "source": [
    "import deepxde as dde\n",
    "import numpy as np\n",
    "import scipy.io\n",
    "import matplotlib.pyplot as plt\n",
    "import matplotlib.animation as animation\n",
    "\n",
    "nu = 0.0006\n",
    "rho = 1.2\n",
    "R = 0.025\n",
    "\n",
    "def pde(x, y):\n",
    "    u, v, p = y[:, 0:1], y[:, 1:2], y[:, 2:3]\n",
    "    u_t = dde.grad.jacobian(y, x, i=0, j=2)\n",
    "    v_t = dde.grad.jacobian(y, x, i=1, j=2)\n",
    "    u_x = dde.grad.jacobian(y, x, i=0, j=0)\n",
    "    u_y = dde.grad.jacobian(y, x, i=0, j=1)\n",
    "    v_x = dde.grad.jacobian(y, x, i=1, j=0)\n",
    "    v_y = dde.grad.jacobian(y, x, i=1, j=1)\n",
    "    u_xx = dde.grad.hessian(y, x, component=0, i=0, j=0)\n",
    "    u_yy = dde.grad.hessian(y, x, component=0, i=1, j=1)\n",
    "    v_xx = dde.grad.hessian(y, x, component=1, i=0, j=0)\n",
    "    v_yy = dde.grad.hessian(y, x, component=1, i=1, j=1)\n",
    "    p_x = dde.grad.jacobian(y, x, i=2, j=0)\n",
    "    p_y = dde.grad.jacobian(y, x, i=2, j=1)\n",
    "    \n",
    "    f = rho*(u_t + u * u_x + v * u_y )+ p_x - nu * (u_xx + u_yy)\n",
    "    g = rho*(v_t + u * v_x + v * v_y )+ p_y - nu * (v_xx + v_yy)\n",
    "    h = u_x + v_y\n",
    "    return [f, g, h]"
   ]
  },
  {
   "cell_type": "markdown",
   "metadata": {},
   "source": [
    "**Domain = Rectangle - cylinder**"
   ]
  },
  {
   "cell_type": "code",
   "execution_count": 7,
   "metadata": {},
   "outputs": [
    {
     "name": "stdout",
     "output_type": "stream",
     "text": [
      "0.0\n",
      "1.0\n",
      "0.0\n",
      "1.0\n"
     ]
    }
   ],
   "source": [
    "x = X.to_numpy().flatten()\n",
    "y = Y.to_numpy().flatten()\n",
    "t = Time.to_numpy().flatten()\n",
    "u = U.to_numpy().flatten()\n",
    "v = V.to_numpy().flatten()\n",
    "\n",
    "# Min-Max Normalization for x and y\n",
    "x_min, x_max = x.min(), x.max()\n",
    "y_min, y_max = y.min(), y.max()\n",
    "\n",
    "x = (x - x_min) / (x_max - x_min)\n",
    "y = (y - y_min) / (y_max - y_min)\n",
    "x_center = (- x_min) / (x_max - x_min)\n",
    "y_center = (- y_min) / (y_max - y_min)\n",
    "print(x.min())\n",
    "print(x.max())\n",
    "print(y.min())\n",
    "print(y.max())"
   ]
  },
  {
   "cell_type": "code",
   "execution_count": 8,
   "metadata": {},
   "outputs": [],
   "source": [
    "rectangle = dde.geometry.Rectangle([0,0], [1, 1])\n",
    "cylinder =  dde.geometry.Disk([x_center, y_center], R /(x_max-x_min))\n",
    "geom = rectangle - cylinder\n",
    "timedomain = dde.geometry.TimeDomain(0,8)\n",
    "geomtime = dde.geometry.GeometryXTime(geom, timedomain)"
   ]
  },
  {
   "cell_type": "markdown",
   "metadata": {},
   "source": [
    "**Plot of the domain**"
   ]
  },
  {
   "cell_type": "code",
   "execution_count": 9,
   "metadata": {},
   "outputs": [
    {
     "data": {
      "image/png": "[encoded data removed]",
      "text/plain": [
       "<Figure size 600x500 with 1 Axes>"
      ]
     },
     "metadata": {},
     "output_type": "display_data"
    }
   ],
   "source": [
    "num_points = 1000000\n",
    "X = geom.random_points(num_points)\n",
    "\n",
    "# Plot the domain\n",
    "plt.figure(figsize=(6, 5))\n",
    "plt.scatter(X[:, 0], X[:, 1],s=1)\n",
    "plt.xlabel(\"x\")\n",
    "plt.ylabel(\"y\")\n",
    "plt.title(\"Domain: Rectangle - Cylinder\")\n",
    "plt.grid(True)\n",
    "plt.axis(\"equal\")\n",
    "plt.show()"
   ]
  },
  {
   "cell_type": "markdown",
   "metadata": {},
   "source": [
    "**Prepare the data**"
   ]
  },
  {
   "cell_type": "code",
   "execution_count": 3,
   "metadata": {},
   "outputs": [
    {
     "name": "stdout",
     "output_type": "stream",
     "text": [
      "   Time  Points:0  Points:1  Points:2  Pressure  Velocity:0  Velocity:1  \\\n",
      "0   0.0 -0.008839  0.008839       0.0       0.0         1.0      0.0001   \n",
      "1   0.0  0.008839  0.008839       0.0       0.0         1.0      0.0001   \n",
      "2   0.0  0.008839 -0.008839       0.0       0.0         1.0      0.0001   \n",
      "3   0.0 -0.008839 -0.008839       0.0       0.0         1.0      0.0001   \n",
      "4   0.0 -0.055000  0.055000       0.0       0.0         1.0      0.0001   \n",
      "\n",
      "   Velocity:2  \n",
      "0         0.0  \n",
      "1         0.0  \n",
      "2         0.0  \n",
      "3         0.0  \n",
      "4         0.0  \n"
     ]
    }
   ],
   "source": [
    "import pandas as pd\n",
    "# Chemin vers le fichier CSV\n",
    "file_path = 'fi.csv'\n",
    "\n",
    "# Lire le fichier CSV\n",
    "data2 = pd.read_csv(file_path)\n",
    "\n",
    "# Afficher les premières lignes du DataFrame\n",
    "print(data2.head())"
   ]
  },
  {
   "cell_type": "code",
   "execution_count": 6,
   "metadata": {},
   "outputs": [
    {
     "name": "stdout",
     "output_type": "stream",
     "text": [
      "4134 327\n",
      "(5874882,)\n",
      "(5874882,)\n",
      "(5874882,)\n",
      "(5874882,)\n",
      "(5874882,)\n",
      "5874882\n"
     ]
    }
   ],
   "source": [
    "# Extraction des colonnes\n",
    "Time = data2['Time']\n",
    "X = data2['Points:0']\n",
    "Y = data2['Points:1']\n",
    "U = data2['Velocity:0']\n",
    "V = data2['Velocity:1']\n",
    "\n",
    "X_unique = X.drop_duplicates().reset_index(drop=True)\n",
    "T_unique = Time.drop_duplicates().reset_index(drop=True)\n",
    "N = X_unique.shape[0]\n",
    "T = T_unique.shape[0]\n",
    "print(N,T)\n",
    "print(X.shape)\n",
    "print(Y.shape)\n",
    "print(Time.shape)\n",
    "print(U.shape)\n",
    "print(V.shape)\n",
    "print(X.shape[0])"
   ]
  },
  {
   "cell_type": "code",
   "execution_count": 12,
   "metadata": {},
   "outputs": [
    {
     "name": "stdout",
     "output_type": "stream",
     "text": [
      "0.0\n",
      "1.0\n"
     ]
    }
   ],
   "source": [
    "\n",
    "\n",
    "x = x.flatten()[:,None]\n",
    "y = y.flatten()[:,None]\n",
    "t = t.flatten()[:,None]\n",
    "u = u.flatten()[:,None]\n",
    "v = v.flatten()[:,None]\n",
    "# Min-Max Normalization for x and y\n",
    "x_min, x_max = x.min(), x.max()\n",
    "y_min, y_max = y.min(), y.max()\n",
    "\n",
    "x = (x - x_min) / (x_max - x_min)\n",
    "y = (y - y_min) / (y_max - y_min)\n",
    "\n",
    "# Z-Score Normalization for u and v\n",
    "u_mean, u_std = u.mean(), u.std()\n",
    "v_mean, v_std = v.mean(), v.std()\n",
    "\n",
    "u = (u - u_mean) / u_std\n",
    "v = (v - v_mean) / v_std\n",
    "u_0 = (1 - u_mean) / u_std\n",
    "v_0 = (0.0001 - v_mean) / v_std\n",
    "\n",
    "print(x.min())\n",
    "print(x.max())"
   ]
  },
  {
   "cell_type": "code",
   "execution_count": 13,
   "metadata": {},
   "outputs": [
    {
     "name": "stdout",
     "output_type": "stream",
     "text": [
      "5874882\n",
      "5874882\n",
      "5874882\n"
     ]
    }
   ],
   "source": [
    "print(len(x))\n",
    "print(len(y))\n",
    "print(len(t))"
   ]
  },
  {
   "cell_type": "code",
   "execution_count": 33,
   "metadata": {},
   "outputs": [
    {
     "ename": "SyntaxError",
     "evalue": "invalid character '￼' (U+FFFC) (3152916551.py, line 37)",
     "output_type": "error",
     "traceback": [
      "\u001b[0;36m  Cell \u001b[0;32mIn[33], line 37\u001b[0;36m\u001b[0m\n\u001b[0;31m    x_unique = np.linspace(x_norm.min(), x_norm.max(), 50)￼\u001b[0m\n\u001b[0m                                                          ^\u001b[0m\n\u001b[0;31mSyntaxError\u001b[0m\u001b[0;31m:\u001b[0m invalid character '￼' (U+FFFC)\n"
     ]
    }
   ],
   "source": [
    "import numpy as np\n",
    "import pandas as pd\n",
    "import matplotlib.pyplot as plt\n",
    "from matplotlib.animation import FuncAnimation\n",
    "from scipy.interpolate import griddata\n",
    "from matplotlib.patches import Circle\n",
    "\n",
    "# Load your data\n",
    "# Assuming you have data loaded as X, Y, Time, U, V\n",
    "# Here, we just use placeholders for these arrays\n",
    "\n",
    "# Convert to numpy arrays and flatten\n",
    "x = X.to_numpy().flatten()\n",
    "y = Y.to_numpy().flatten()\n",
    "t = Time.to_numpy().flatten()\n",
    "u = U.to_numpy().flatten()\n",
    "v = V.to_numpy().flatten()\n",
    "\n",
    "# Min-Max Normalization for x and y\n",
    "x_min, x_max = x.min(), x.max()\n",
    "y_min, y_max = y.min(), y.max()\n",
    "\n",
    "x_norm = (x - x_min) / (x_max - x_min)\n",
    "y_norm = (y - y_min) / (y_max - y_min)\n",
    "\n",
    "# Z-Score Normalization for u and v\n",
    "u_mean, u_std = u.mean(), u.std()\n",
    "v_mean, v_std = v.mean(), v.std()\n",
    "\n",
    "u_norm = (u - u_mean) / u_std\n",
    "v_norm = (v - v_mean) / v_std\n",
    "u_0 = (1 - u_mean) / u_std\n",
    "v_0 = (0.0001 - v_mean) / v_std\n",
    "\n",
    "\n",
    "# Define grid\n",
    "x_unique = np.linspace(x_norm.min(), x_norm.max(), 50)￼\n",
    "y_unique = np.linspace(y_norm.min(), y_norm.max(), 50)\n",
    "XX_test, YY_test = np.meshgrid(x_unique, y_unique)\n",
    "\n",
    "# Initialize plot\n",
    "fig, ax = plt.subplots()\n",
    "\n",
    "# Helper function to get velocity magnitude\n",
    "def get_velocity_magnitude(t_value):\n",
    "    mask = (t == t_value)\n",
    "    x_current = x_norm[mask]\n",
    "    y_current = y_norm[mask]\n",
    "    u_current = u_norm[mask]\n",
    "    v_current = v_norm[mask]\n",
    "    \n",
    "    # Interpolate to the grid\n",
    "    grid_u = griddata((x_current, y_current), u_current, (XX_test, YY_test), method='linear', fill_value=0)\n",
    "    grid_v = griddata((x_current, y_current), v_current, (XX_test, YY_test), method='linear', fill_value=0)\n",
    "    \n",
    "    magnitude = grid_u\n",
    "    return magnitude\n",
    "\n",
    "# Initial plot\n",
    "initial_magnitude = get_velocity_magnitude(t.min())\n",
    "cax = ax.contourf(XX_test, YY_test, initial_magnitude, levels=20, cmap='jet')\n",
    "cbar = plt.colorbar(cax, ax=ax)\n",
    "cbar.set_label(r'Velocity Magnitude')\n",
    "ax.set_xlabel(r'$x$')\n",
    "ax.set_ylabel(r'$y$')\n",
    "ax.set_title(r'Fluid Flow')\n",
    "\n",
    "R = 0.025\n",
    "x_center = - x_min / (x_max - x_min)\n",
    "y_center = - y_min / (y_max - y_min)\n",
    "R_norm = R / (x_max -x_min)\n",
    "cylinder = Circle((x_center, y_center), R_norm, color='black', fill=True)\n",
    "ax.add_patch(cylinder)\n",
    "\n",
    "# Set consistent axis limits\n",
    "ax.set_xlim([XX_test.min(), XX_test.max()])\n",
    "ax.set_ylim([YY_test.min(), YY_test.max()])\n",
    "\n",
    "# Animation function\n",
    "def animate(i):\n",
    "    current_t = np.unique(t)[i]\n",
    "    magnitude = get_velocity_magnitude(current_t)\n",
    "    cax = ax.contourf(XX_test, YY_test, magnitude, levels=20, cmap='jet')\n",
    "    ax.set_xlabel(r'$x$')\n",
    "    ax.set_ylabel(r'$y$')\n",
    "    ax.set_title(r'Fluid Flow at t = {:.2f}'.format(current_t))\n",
    "    cylinder = Circle((x_center, y_center), R_norm, color='black', fill=True)\n",
    "    ax.add_patch(cylinder)\n",
    "\n",
    "    return cax.collections\n",
    "\n",
    "# Create animation\n",
    "ani = FuncAnimation(fig, animate, frames=len(np.unique(t)), interval=100, blit=True)\n",
    "\n",
    "# Save animation\n",
    "ani.save('fluid_flow20.gif', writer='imagemagick')\n",
    "\n",
    "plt.show()\n"
   ]
  },
  {
   "cell_type": "code",
   "execution_count": 11,
   "metadata": {},
   "outputs": [],
   "source": [
    "from sklearn.preprocessing import StandardScaler\n",
    "\n",
    "# Select the columns to normalize\n",
    "columns_to_normalize = ['Points:0', 'Points:1', 'Velocity:0', 'Velocity:1']\n",
    "\n",
    "scaler = StandardScaler()\n",
    "data2[columns_to_normalize] = scaler.fit_transform(data2[columns_to_normalize])\n"
   ]
  },
  {
   "cell_type": "code",
   "execution_count": 14,
   "metadata": {},
   "outputs": [
    {
     "name": "stderr",
     "output_type": "stream",
     "text": [
      "/tmp/ipykernel_10117/67799266.py:71: MatplotlibDeprecationWarning: The collections attribute was deprecated in Matplotlib 3.8 and will be removed two minor releases later.\n",
      "  return cax.collections\n",
      "MovieWriter imagemagick unavailable; using Pillow instead.\n",
      "/tmp/ipykernel_10117/67799266.py:71: MatplotlibDeprecationWarning: The collections attribute was deprecated in Matplotlib 3.8 and will be removed two minor releases later.\n",
      "  return cax.collections\n"
     ]
    },
    {
     "data": {
      "image/png": "[encoded data removed]",
      "text/plain": [
       "<Figure size 640x480 with 2 Axes>"
      ]
     },
     "metadata": {},
     "output_type": "display_data"
    }
   ],
   "source": [
    "import numpy as np\n",
    "import pandas as pd\n",
    "import matplotlib.pyplot as plt\n",
    "from matplotlib.animation import FuncAnimation\n",
    "from scipy.interpolate import griddata\n",
    "from matplotlib.patches import Circle\n",
    "\n",
    "# Load your data\n",
    "# Assuming you have data loaded as X, Y, Time, U, V\n",
    "# Here, we just use placeholders for these arrays\n",
    "\n",
    "# Convert to numpy arrays and flatten\n",
    "x = X.to_numpy().flatten()\n",
    "y = Y.to_numpy().flatten()\n",
    "t = Time.to_numpy().flatten()\n",
    "u = U.to_numpy().flatten()\n",
    "v = V.to_numpy().flatten()\n",
    "\n",
    "# Min-Max Normalization for x and y\n",
    "x_min, x_max = x.min(), x.max()\n",
    "y_min, y_max = y.min(), y.max()\n",
    "\n",
    "\n",
    "# Define grid\n",
    "x_unique = np.linspace(x.min(), x.max(), 50)\n",
    "y_unique = np.linspace(y.min(), y.max(), 50)\n",
    "XX_test, YY_test = np.meshgrid(x_unique, y_unique)\n",
    "\n",
    "# Initialize plot\n",
    "fig, ax = plt.subplots()\n",
    "\n",
    "# Helper function to get velocity magnitude\n",
    "def get_velocity_magnitude(t_value):\n",
    "    mask = (t == t_value)\n",
    "    x_current = x[mask]\n",
    "    y_current = y[mask]\n",
    "    u_current = u[mask]\n",
    "    v_current = v[mask]\n",
    "    \n",
    "    # Interpolate to the grid\n",
    "    grid_u = griddata((x_current, y_current), u_current, (XX_test, YY_test), method='linear', fill_value=0)\n",
    "    grid_v = griddata((x_current, y_current), v_current, (XX_test, YY_test), method='linear', fill_value=0)\n",
    "    \n",
    "    magnitude = grid_u\n",
    "    return magnitude\n",
    "\n",
    "# Initial plot\n",
    "initial_magnitude = get_velocity_magnitude(t.min())\n",
    "cax = ax.contourf(XX_test, YY_test, initial_magnitude, levels=20, cmap='jet')\n",
    "cbar = plt.colorbar(cax, ax=ax)\n",
    "cbar.set_label(r'Velocity Magnitude')\n",
    "ax.set_xlabel(r'$x$')\n",
    "ax.set_ylabel(r'$y$')\n",
    "ax.set_title(r'Fluid Flow')\n",
    "\n",
    "\n",
    "# Set consistent axis limits\n",
    "ax.set_xlim([XX_test.min(), XX_test.max()])\n",
    "ax.set_ylim([YY_test.min(), YY_test.max()])\n",
    "\n",
    "# Animation function\n",
    "def animate(i):\n",
    "    current_t = np.unique(t)[i]\n",
    "    magnitude = get_velocity_magnitude(current_t)\n",
    "    cax = ax.contourf(XX_test, YY_test, magnitude, levels=20, cmap='jet')\n",
    "    ax.set_xlabel(r'$x$')\n",
    "    ax.set_ylabel(r'$y$')\n",
    "    ax.set_title(r'Fluid Flow at t = {:.2f}'.format(current_t))\n",
    "\n",
    "\n",
    "    return cax.collections\n",
    "\n",
    "# Create animation\n",
    "ani = FuncAnimation(fig, animate, frames=len(np.unique(t)), interval=100, blit=True)\n",
    "\n",
    "# Save animation\n",
    "ani.save('fluid_flow20.gif', writer='imagemagick')\n",
    "\n",
    "plt.show()\n"
   ]
  },
  {
   "cell_type": "markdown",
   "metadata": {},
   "source": [
    "# Boundary and Initial conditions"
   ]
  },
  {
   "cell_type": "code",
   "execution_count": 14,
   "metadata": {},
   "outputs": [],
   "source": [
    "def boundary_outer(x, on_boundary):\n",
    "    return on_boundary and rectangle.on_boundary(x)\n",
    "\n",
    "\n",
    "def boundary_inner(x, on_boundary):\n",
    "    return on_boundary and cylinder.on_boundary(x)\n",
    "def func(x):\n",
    "    return 0\n",
    "\n",
    "\n",
    "bc_outer1 = dde.icbc.DirichletBC(geomtime, func, boundary_outer, component=0)\n",
    "bc_outer2 = dde.icbc.DirichletBC(geomtime, func, boundary_outer, component=1)\n",
    "\n",
    "\n",
    "ic1 = dde.icbc.IC(geomtime,lambda x: u_0 ,lambda _, on_initial: on_initial,component=0)\n",
    "ic2 = dde.icbc.IC(geomtime,lambda x: v_0,lambda _, on_initial: on_initial,component=1)\n",
    "ic3 = dde.icbc.IC(geomtime,lambda x: 0,lambda _, on_initial: on_initial,component=2)"
   ]
  },
  {
   "cell_type": "code",
   "execution_count": 15,
   "metadata": {},
   "outputs": [],
   "source": [
    "N_train = 10000\n",
    "step = x.shape[0] // N_train\n",
    "\n",
    "idx = np.arange(0, step * N_train, step)\n",
    "\n",
    "# Créer les ensembles d'entraînement\n",
    "x_train = x[idx, :]\n",
    "y_train = y[idx, :]\n",
    "t_train = t[idx, :]\n",
    "u_train = u[idx, :]\n",
    "v_train = v[idx, :]\n",
    "ic_u = dde.icbc.PointSetBC(np.hstack((x_train, y_train, t_train)), u_train, component=0)\n",
    "ic_v = dde.icbc.PointSetBC(np.hstack((x_train, y_train, t_train)), v_train, component=1)"
   ]
  },
  {
   "cell_type": "markdown",
   "metadata": {},
   "source": [
    "# Model"
   ]
  },
  {
   "cell_type": "code",
   "execution_count": 16,
   "metadata": {},
   "outputs": [
    {
     "name": "stdout",
     "output_type": "stream",
     "text": [
      "Compiling model...\n",
      "'compile' took 0.983762 s\n",
      "\n",
      "Warning: epochs is deprecated and will be removed in a future version. Use iterations instead.\n",
      "Training model...\n",
      "\n"
     ]
    },
    {
     "ename": "OutOfMemoryError",
     "evalue": "CUDA out of memory. Tried to allocate 20.00 MiB. GPU 0 has a total capacity of 3.95 GiB of which 10.19 MiB is free. Process 238933 has 2.21 GiB memory in use. Process 301242 has 1.17 GiB memory in use. Including non-PyTorch memory, this process has 75.12 MiB memory in use. Of the allocated memory 20.41 MiB is allocated by PyTorch, and 5.59 MiB is reserved by PyTorch but unallocated. If reserved but unallocated memory is large try setting PYTORCH_CUDA_ALLOC_CONF=expandable_segments:True to avoid fragmentation.  See documentation for Memory Management  (https://pytorch.org/docs/stable/notes/cuda.html#environment-variables)",
     "output_type": "error",
     "traceback": [
      "\u001b[0;31m---------------------------------------------------------------------------\u001b[0m",
      "\u001b[0;31mOutOfMemoryError\u001b[0m                          Traceback (most recent call last)",
      "Cell \u001b[0;32mIn[16], line 13\u001b[0m\n\u001b[1;32m     11\u001b[0m \u001b[38;5;66;03m# Compile and train the model\u001b[39;00m\n\u001b[1;32m     12\u001b[0m model\u001b[38;5;241m.\u001b[39mcompile(\u001b[38;5;124m\"\u001b[39m\u001b[38;5;124madam\u001b[39m\u001b[38;5;124m\"\u001b[39m, lr\u001b[38;5;241m=\u001b[39m\u001b[38;5;241m1e-3\u001b[39m,)\n\u001b[0;32m---> 13\u001b[0m losshistory, train_state \u001b[38;5;241m=\u001b[39m model\u001b[38;5;241m.\u001b[39mtrain(epochs\u001b[38;5;241m=\u001b[39m\u001b[38;5;241m10000\u001b[39m, callbacks\u001b[38;5;241m=\u001b[39m[checkpointer,])\n\u001b[1;32m     15\u001b[0m \u001b[38;5;66;03m#model.compile(\"L-BFGS\")\u001b[39;00m\n\u001b[1;32m     16\u001b[0m \u001b[38;5;66;03m#model.train()\u001b[39;00m\n\u001b[1;32m     19\u001b[0m dde\u001b[38;5;241m.\u001b[39msaveplot(losshistory, train_state, issave\u001b[38;5;241m=\u001b[39m\u001b[38;5;28;01mTrue\u001b[39;00m, isplot\u001b[38;5;241m=\u001b[39m\u001b[38;5;28;01mTrue\u001b[39;00m)\n",
      "File \u001b[0;32m~/anaconda3/lib/python3.12/site-packages/deepxde/utils/internal.py:22\u001b[0m, in \u001b[0;36mtiming.<locals>.wrapper\u001b[0;34m(*args, **kwargs)\u001b[0m\n\u001b[1;32m     19\u001b[0m \u001b[38;5;129m@wraps\u001b[39m(f)\n\u001b[1;32m     20\u001b[0m \u001b[38;5;28;01mdef\u001b[39;00m \u001b[38;5;21mwrapper\u001b[39m(\u001b[38;5;241m*\u001b[39margs, \u001b[38;5;241m*\u001b[39m\u001b[38;5;241m*\u001b[39mkwargs):\n\u001b[1;32m     21\u001b[0m     ts \u001b[38;5;241m=\u001b[39m timeit\u001b[38;5;241m.\u001b[39mdefault_timer()\n\u001b[0;32m---> 22\u001b[0m     result \u001b[38;5;241m=\u001b[39m f(\u001b[38;5;241m*\u001b[39margs, \u001b[38;5;241m*\u001b[39m\u001b[38;5;241m*\u001b[39mkwargs)\n\u001b[1;32m     23\u001b[0m     te \u001b[38;5;241m=\u001b[39m timeit\u001b[38;5;241m.\u001b[39mdefault_timer()\n\u001b[1;32m     24\u001b[0m     \u001b[38;5;28;01mif\u001b[39;00m config\u001b[38;5;241m.\u001b[39mrank \u001b[38;5;241m==\u001b[39m \u001b[38;5;241m0\u001b[39m:\n",
      "File \u001b[0;32m~/anaconda3/lib/python3.12/site-packages/deepxde/model.py:643\u001b[0m, in \u001b[0;36mModel.train\u001b[0;34m(self, iterations, batch_size, display_every, disregard_previous_best, callbacks, model_restore_path, model_save_path, epochs)\u001b[0m\n\u001b[1;32m    641\u001b[0m \u001b[38;5;28mself\u001b[39m\u001b[38;5;241m.\u001b[39mtrain_state\u001b[38;5;241m.\u001b[39mset_data_train(\u001b[38;5;241m*\u001b[39m\u001b[38;5;28mself\u001b[39m\u001b[38;5;241m.\u001b[39mdata\u001b[38;5;241m.\u001b[39mtrain_next_batch(\u001b[38;5;28mself\u001b[39m\u001b[38;5;241m.\u001b[39mbatch_size))\n\u001b[1;32m    642\u001b[0m \u001b[38;5;28mself\u001b[39m\u001b[38;5;241m.\u001b[39mtrain_state\u001b[38;5;241m.\u001b[39mset_data_test(\u001b[38;5;241m*\u001b[39m\u001b[38;5;28mself\u001b[39m\u001b[38;5;241m.\u001b[39mdata\u001b[38;5;241m.\u001b[39mtest())\n\u001b[0;32m--> 643\u001b[0m \u001b[38;5;28mself\u001b[39m\u001b[38;5;241m.\u001b[39m_test()\n\u001b[1;32m    644\u001b[0m \u001b[38;5;28mself\u001b[39m\u001b[38;5;241m.\u001b[39mcallbacks\u001b[38;5;241m.\u001b[39mon_train_begin()\n\u001b[1;32m    645\u001b[0m \u001b[38;5;28;01mif\u001b[39;00m optimizers\u001b[38;5;241m.\u001b[39mis_external_optimizer(\u001b[38;5;28mself\u001b[39m\u001b[38;5;241m.\u001b[39mopt_name):\n",
      "File \u001b[0;32m~/anaconda3/lib/python3.12/site-packages/deepxde/model.py:832\u001b[0m, in \u001b[0;36mModel._test\u001b[0;34m(self)\u001b[0m\n\u001b[1;32m    827\u001b[0m \u001b[38;5;28;01mdef\u001b[39;00m \u001b[38;5;21m_test\u001b[39m(\u001b[38;5;28mself\u001b[39m):\n\u001b[1;32m    828\u001b[0m     \u001b[38;5;66;03m# TODO Now only print the training loss in rank 0. The correct way is to print the average training loss of all ranks.\u001b[39;00m\n\u001b[1;32m    829\u001b[0m     (\n\u001b[1;32m    830\u001b[0m         \u001b[38;5;28mself\u001b[39m\u001b[38;5;241m.\u001b[39mtrain_state\u001b[38;5;241m.\u001b[39my_pred_train,\n\u001b[1;32m    831\u001b[0m         \u001b[38;5;28mself\u001b[39m\u001b[38;5;241m.\u001b[39mtrain_state\u001b[38;5;241m.\u001b[39mloss_train,\n\u001b[0;32m--> 832\u001b[0m     ) \u001b[38;5;241m=\u001b[39m \u001b[38;5;28mself\u001b[39m\u001b[38;5;241m.\u001b[39m_outputs_losses(\n\u001b[1;32m    833\u001b[0m         \u001b[38;5;28;01mTrue\u001b[39;00m,\n\u001b[1;32m    834\u001b[0m         \u001b[38;5;28mself\u001b[39m\u001b[38;5;241m.\u001b[39mtrain_state\u001b[38;5;241m.\u001b[39mX_train,\n\u001b[1;32m    835\u001b[0m         \u001b[38;5;28mself\u001b[39m\u001b[38;5;241m.\u001b[39mtrain_state\u001b[38;5;241m.\u001b[39my_train,\n\u001b[1;32m    836\u001b[0m         \u001b[38;5;28mself\u001b[39m\u001b[38;5;241m.\u001b[39mtrain_state\u001b[38;5;241m.\u001b[39mtrain_aux_vars,\n\u001b[1;32m    837\u001b[0m     )\n\u001b[1;32m    838\u001b[0m     \u001b[38;5;28mself\u001b[39m\u001b[38;5;241m.\u001b[39mtrain_state\u001b[38;5;241m.\u001b[39my_pred_test, \u001b[38;5;28mself\u001b[39m\u001b[38;5;241m.\u001b[39mtrain_state\u001b[38;5;241m.\u001b[39mloss_test \u001b[38;5;241m=\u001b[39m \u001b[38;5;28mself\u001b[39m\u001b[38;5;241m.\u001b[39m_outputs_losses(\n\u001b[1;32m    839\u001b[0m         \u001b[38;5;28;01mFalse\u001b[39;00m,\n\u001b[1;32m    840\u001b[0m         \u001b[38;5;28mself\u001b[39m\u001b[38;5;241m.\u001b[39mtrain_state\u001b[38;5;241m.\u001b[39mX_test,\n\u001b[1;32m    841\u001b[0m         \u001b[38;5;28mself\u001b[39m\u001b[38;5;241m.\u001b[39mtrain_state\u001b[38;5;241m.\u001b[39my_test,\n\u001b[1;32m    842\u001b[0m         \u001b[38;5;28mself\u001b[39m\u001b[38;5;241m.\u001b[39mtrain_state\u001b[38;5;241m.\u001b[39mtest_aux_vars,\n\u001b[1;32m    843\u001b[0m     )\n\u001b[1;32m    845\u001b[0m     \u001b[38;5;28;01mif\u001b[39;00m \u001b[38;5;28misinstance\u001b[39m(\u001b[38;5;28mself\u001b[39m\u001b[38;5;241m.\u001b[39mtrain_state\u001b[38;5;241m.\u001b[39my_test, (\u001b[38;5;28mlist\u001b[39m, \u001b[38;5;28mtuple\u001b[39m)):\n",
      "File \u001b[0;32m~/anaconda3/lib/python3.12/site-packages/deepxde/model.py:551\u001b[0m, in \u001b[0;36mModel._outputs_losses\u001b[0;34m(self, training, inputs, targets, auxiliary_vars)\u001b[0m\n\u001b[1;32m    549\u001b[0m \u001b[38;5;28;01melif\u001b[39;00m backend_name \u001b[38;5;241m==\u001b[39m \u001b[38;5;124m\"\u001b[39m\u001b[38;5;124mpytorch\u001b[39m\u001b[38;5;124m\"\u001b[39m:\n\u001b[1;32m    550\u001b[0m     \u001b[38;5;28mself\u001b[39m\u001b[38;5;241m.\u001b[39mnet\u001b[38;5;241m.\u001b[39mrequires_grad_(requires_grad\u001b[38;5;241m=\u001b[39m\u001b[38;5;28;01mFalse\u001b[39;00m)\n\u001b[0;32m--> 551\u001b[0m     outs \u001b[38;5;241m=\u001b[39m outputs_losses(inputs, targets, auxiliary_vars)\n\u001b[1;32m    552\u001b[0m     \u001b[38;5;28mself\u001b[39m\u001b[38;5;241m.\u001b[39mnet\u001b[38;5;241m.\u001b[39mrequires_grad_()\n\u001b[1;32m    553\u001b[0m \u001b[38;5;28;01melif\u001b[39;00m backend_name \u001b[38;5;241m==\u001b[39m \u001b[38;5;124m\"\u001b[39m\u001b[38;5;124mjax\u001b[39m\u001b[38;5;124m\"\u001b[39m:\n\u001b[1;32m    554\u001b[0m     \u001b[38;5;66;03m# TODO: auxiliary_vars\u001b[39;00m\n",
      "File \u001b[0;32m~/anaconda3/lib/python3.12/site-packages/deepxde/model.py:322\u001b[0m, in \u001b[0;36mModel._compile_pytorch.<locals>.outputs_losses_train\u001b[0;34m(inputs, targets, auxiliary_vars)\u001b[0m\n\u001b[1;32m    321\u001b[0m \u001b[38;5;28;01mdef\u001b[39;00m \u001b[38;5;21moutputs_losses_train\u001b[39m(inputs, targets, auxiliary_vars):\n\u001b[0;32m--> 322\u001b[0m     \u001b[38;5;28;01mreturn\u001b[39;00m outputs_losses(\n\u001b[1;32m    323\u001b[0m         \u001b[38;5;28;01mTrue\u001b[39;00m, inputs, targets, auxiliary_vars, \u001b[38;5;28mself\u001b[39m\u001b[38;5;241m.\u001b[39mdata\u001b[38;5;241m.\u001b[39mlosses_train\n\u001b[1;32m    324\u001b[0m     )\n",
      "File \u001b[0;32m~/anaconda3/lib/python3.12/site-packages/deepxde/model.py:310\u001b[0m, in \u001b[0;36mModel._compile_pytorch.<locals>.outputs_losses\u001b[0;34m(training, inputs, targets, auxiliary_vars, losses_fn)\u001b[0m\n\u001b[1;32m    308\u001b[0m \u001b[38;5;66;03m# if forward-mode AD is used, then a forward call needs to be passed\u001b[39;00m\n\u001b[1;32m    309\u001b[0m aux \u001b[38;5;241m=\u001b[39m [\u001b[38;5;28mself\u001b[39m\u001b[38;5;241m.\u001b[39mnet] \u001b[38;5;28;01mif\u001b[39;00m config\u001b[38;5;241m.\u001b[39mautodiff \u001b[38;5;241m==\u001b[39m \u001b[38;5;124m\"\u001b[39m\u001b[38;5;124mforward\u001b[39m\u001b[38;5;124m\"\u001b[39m \u001b[38;5;28;01melse\u001b[39;00m \u001b[38;5;28;01mNone\u001b[39;00m\n\u001b[0;32m--> 310\u001b[0m losses \u001b[38;5;241m=\u001b[39m losses_fn(targets, outputs_, loss_fn, inputs, \u001b[38;5;28mself\u001b[39m, aux\u001b[38;5;241m=\u001b[39maux)\n\u001b[1;32m    311\u001b[0m \u001b[38;5;28;01mif\u001b[39;00m \u001b[38;5;129;01mnot\u001b[39;00m \u001b[38;5;28misinstance\u001b[39m(losses, \u001b[38;5;28mlist\u001b[39m):\n\u001b[1;32m    312\u001b[0m     losses \u001b[38;5;241m=\u001b[39m [losses]\n",
      "File \u001b[0;32m~/anaconda3/lib/python3.12/site-packages/deepxde/data/data.py:13\u001b[0m, in \u001b[0;36mData.losses_train\u001b[0;34m(self, targets, outputs, loss_fn, inputs, model, aux)\u001b[0m\n\u001b[1;32m     11\u001b[0m \u001b[38;5;28;01mdef\u001b[39;00m \u001b[38;5;21mlosses_train\u001b[39m(\u001b[38;5;28mself\u001b[39m, targets, outputs, loss_fn, inputs, model, aux\u001b[38;5;241m=\u001b[39m\u001b[38;5;28;01mNone\u001b[39;00m):\n\u001b[1;32m     12\u001b[0m \u001b[38;5;250m    \u001b[39m\u001b[38;5;124;03m\"\"\"Return a list of losses for training dataset, i.e., constraints.\"\"\"\u001b[39;00m\n\u001b[0;32m---> 13\u001b[0m     \u001b[38;5;28;01mreturn\u001b[39;00m \u001b[38;5;28mself\u001b[39m\u001b[38;5;241m.\u001b[39mlosses(targets, outputs, loss_fn, inputs, model, aux\u001b[38;5;241m=\u001b[39maux)\n",
      "File \u001b[0;32m~/anaconda3/lib/python3.12/site-packages/deepxde/data/pde.py:149\u001b[0m, in \u001b[0;36mPDE.losses\u001b[0;34m(self, targets, outputs, loss_fn, inputs, model, aux)\u001b[0m\n\u001b[1;32m    147\u001b[0m \u001b[38;5;28;01mif\u001b[39;00m \u001b[38;5;28mself\u001b[39m\u001b[38;5;241m.\u001b[39mpde \u001b[38;5;129;01mis\u001b[39;00m \u001b[38;5;129;01mnot\u001b[39;00m \u001b[38;5;28;01mNone\u001b[39;00m:\n\u001b[1;32m    148\u001b[0m     \u001b[38;5;28;01mif\u001b[39;00m get_num_args(\u001b[38;5;28mself\u001b[39m\u001b[38;5;241m.\u001b[39mpde) \u001b[38;5;241m==\u001b[39m \u001b[38;5;241m2\u001b[39m:\n\u001b[0;32m--> 149\u001b[0m         f \u001b[38;5;241m=\u001b[39m \u001b[38;5;28mself\u001b[39m\u001b[38;5;241m.\u001b[39mpde(inputs, outputs_pde)\n\u001b[1;32m    150\u001b[0m     \u001b[38;5;28;01melif\u001b[39;00m get_num_args(\u001b[38;5;28mself\u001b[39m\u001b[38;5;241m.\u001b[39mpde) \u001b[38;5;241m==\u001b[39m \u001b[38;5;241m3\u001b[39m:\n\u001b[1;32m    151\u001b[0m         \u001b[38;5;28;01mif\u001b[39;00m \u001b[38;5;28mself\u001b[39m\u001b[38;5;241m.\u001b[39mauxiliary_var_fn \u001b[38;5;129;01mis\u001b[39;00m \u001b[38;5;129;01mnot\u001b[39;00m \u001b[38;5;28;01mNone\u001b[39;00m:\n",
      "Cell \u001b[0;32mIn[1], line 13\u001b[0m, in \u001b[0;36mpde\u001b[0;34m(x, y)\u001b[0m\n\u001b[1;32m     11\u001b[0m \u001b[38;5;28;01mdef\u001b[39;00m \u001b[38;5;21mpde\u001b[39m(x, y):\n\u001b[1;32m     12\u001b[0m     u, v, p \u001b[38;5;241m=\u001b[39m y[:, \u001b[38;5;241m0\u001b[39m:\u001b[38;5;241m1\u001b[39m], y[:, \u001b[38;5;241m1\u001b[39m:\u001b[38;5;241m2\u001b[39m], y[:, \u001b[38;5;241m2\u001b[39m:\u001b[38;5;241m3\u001b[39m]\n\u001b[0;32m---> 13\u001b[0m     u_t \u001b[38;5;241m=\u001b[39m dde\u001b[38;5;241m.\u001b[39mgrad\u001b[38;5;241m.\u001b[39mjacobian(y, x, i\u001b[38;5;241m=\u001b[39m\u001b[38;5;241m0\u001b[39m, j\u001b[38;5;241m=\u001b[39m\u001b[38;5;241m2\u001b[39m)\n\u001b[1;32m     14\u001b[0m     v_t \u001b[38;5;241m=\u001b[39m dde\u001b[38;5;241m.\u001b[39mgrad\u001b[38;5;241m.\u001b[39mjacobian(y, x, i\u001b[38;5;241m=\u001b[39m\u001b[38;5;241m1\u001b[39m, j\u001b[38;5;241m=\u001b[39m\u001b[38;5;241m2\u001b[39m)\n\u001b[1;32m     15\u001b[0m     u_x \u001b[38;5;241m=\u001b[39m dde\u001b[38;5;241m.\u001b[39mgrad\u001b[38;5;241m.\u001b[39mjacobian(y, x, i\u001b[38;5;241m=\u001b[39m\u001b[38;5;241m0\u001b[39m, j\u001b[38;5;241m=\u001b[39m\u001b[38;5;241m0\u001b[39m)\n",
      "File \u001b[0;32m~/anaconda3/lib/python3.12/site-packages/deepxde/gradients/gradients.py:34\u001b[0m, in \u001b[0;36mjacobian\u001b[0;34m(ys, xs, i, j)\u001b[0m\n\u001b[1;32m     11\u001b[0m \u001b[38;5;250m\u001b[39m\u001b[38;5;124;03m\"\"\"Compute `Jacobian matrix <https://en.wikipedia.org/wiki/Jacobian_matrix_and_determinant>`_\u001b[39;00m\n\u001b[1;32m     12\u001b[0m \u001b[38;5;124;03mJ as J[i, j] = dy_i / dx_j, where i = 0, ..., dim_y - 1 and j = 0, ..., dim_x - 1.\u001b[39;00m\n\u001b[1;32m     13\u001b[0m \n\u001b[0;32m   (...)\u001b[0m\n\u001b[1;32m     31\u001b[0m \u001b[38;5;124;03m    (`i`, `j`)th entry J[`i`, `j`], `i`th row J[`i`, :], or `j`th column J[:, `j`].\u001b[39;00m\n\u001b[1;32m     32\u001b[0m \u001b[38;5;124;03m\"\"\"\u001b[39;00m\n\u001b[1;32m     33\u001b[0m \u001b[38;5;28;01mif\u001b[39;00m config\u001b[38;5;241m.\u001b[39mautodiff \u001b[38;5;241m==\u001b[39m \u001b[38;5;124m\"\u001b[39m\u001b[38;5;124mreverse\u001b[39m\u001b[38;5;124m\"\u001b[39m:\n\u001b[0;32m---> 34\u001b[0m     \u001b[38;5;28;01mreturn\u001b[39;00m gradients_reverse\u001b[38;5;241m.\u001b[39mjacobian(ys, xs, i\u001b[38;5;241m=\u001b[39mi, j\u001b[38;5;241m=\u001b[39mj)\n\u001b[1;32m     35\u001b[0m \u001b[38;5;28;01mif\u001b[39;00m config\u001b[38;5;241m.\u001b[39mautodiff \u001b[38;5;241m==\u001b[39m \u001b[38;5;124m\"\u001b[39m\u001b[38;5;124mforward\u001b[39m\u001b[38;5;124m\"\u001b[39m:\n\u001b[1;32m     36\u001b[0m     \u001b[38;5;28;01mreturn\u001b[39;00m gradients_forward\u001b[38;5;241m.\u001b[39mjacobian(ys, xs, i\u001b[38;5;241m=\u001b[39mi, j\u001b[38;5;241m=\u001b[39mj)\n",
      "File \u001b[0;32m~/anaconda3/lib/python3.12/site-packages/deepxde/gradients/gradients_reverse.py:73\u001b[0m, in \u001b[0;36mjacobian\u001b[0;34m(ys, xs, i, j)\u001b[0m\n\u001b[1;32m     72\u001b[0m \u001b[38;5;28;01mdef\u001b[39;00m \u001b[38;5;21mjacobian\u001b[39m(ys, xs, i\u001b[38;5;241m=\u001b[39m\u001b[38;5;28;01mNone\u001b[39;00m, j\u001b[38;5;241m=\u001b[39m\u001b[38;5;28;01mNone\u001b[39;00m):\n\u001b[0;32m---> 73\u001b[0m     \u001b[38;5;28;01mreturn\u001b[39;00m jacobian\u001b[38;5;241m.\u001b[39m_Jacobians(ys, xs, i\u001b[38;5;241m=\u001b[39mi, j\u001b[38;5;241m=\u001b[39mj)\n",
      "File \u001b[0;32m~/anaconda3/lib/python3.12/site-packages/deepxde/gradients/jacobian.py:128\u001b[0m, in \u001b[0;36mJacobians.__call__\u001b[0;34m(self, ys, xs, i, j)\u001b[0m\n\u001b[1;32m    126\u001b[0m \u001b[38;5;28;01mif\u001b[39;00m key \u001b[38;5;129;01mnot\u001b[39;00m \u001b[38;5;129;01min\u001b[39;00m \u001b[38;5;28mself\u001b[39m\u001b[38;5;241m.\u001b[39mJs:\n\u001b[1;32m    127\u001b[0m     \u001b[38;5;28mself\u001b[39m\u001b[38;5;241m.\u001b[39mJs[key] \u001b[38;5;241m=\u001b[39m \u001b[38;5;28mself\u001b[39m\u001b[38;5;241m.\u001b[39mJacobianClass(ys, xs)\n\u001b[0;32m--> 128\u001b[0m \u001b[38;5;28;01mreturn\u001b[39;00m \u001b[38;5;28mself\u001b[39m\u001b[38;5;241m.\u001b[39mJs[key](i, j)\n",
      "File \u001b[0;32m~/anaconda3/lib/python3.12/site-packages/deepxde/gradients/gradients_reverse.py:29\u001b[0m, in \u001b[0;36mJacobianReverse.__call__\u001b[0;34m(self, i, j)\u001b[0m\n\u001b[1;32m     26\u001b[0m \u001b[38;5;28;01melif\u001b[39;00m backend_name \u001b[38;5;241m==\u001b[39m \u001b[38;5;124m\"\u001b[39m\u001b[38;5;124mpytorch\u001b[39m\u001b[38;5;124m\"\u001b[39m:\n\u001b[1;32m     27\u001b[0m     \u001b[38;5;66;03m# TODO: retain_graph=True has memory leak?\u001b[39;00m\n\u001b[1;32m     28\u001b[0m     y \u001b[38;5;241m=\u001b[39m \u001b[38;5;28mself\u001b[39m\u001b[38;5;241m.\u001b[39mys[:, i : i \u001b[38;5;241m+\u001b[39m \u001b[38;5;241m1\u001b[39m] \u001b[38;5;28;01mif\u001b[39;00m \u001b[38;5;28mself\u001b[39m\u001b[38;5;241m.\u001b[39mdim_y \u001b[38;5;241m>\u001b[39m \u001b[38;5;241m1\u001b[39m \u001b[38;5;28;01melse\u001b[39;00m \u001b[38;5;28mself\u001b[39m\u001b[38;5;241m.\u001b[39mys\n\u001b[0;32m---> 29\u001b[0m     \u001b[38;5;28mself\u001b[39m\u001b[38;5;241m.\u001b[39mJ[i] \u001b[38;5;241m=\u001b[39m torch\u001b[38;5;241m.\u001b[39mautograd\u001b[38;5;241m.\u001b[39mgrad(\n\u001b[1;32m     30\u001b[0m         y, \u001b[38;5;28mself\u001b[39m\u001b[38;5;241m.\u001b[39mxs, grad_outputs\u001b[38;5;241m=\u001b[39mtorch\u001b[38;5;241m.\u001b[39mones_like(y), create_graph\u001b[38;5;241m=\u001b[39m\u001b[38;5;28;01mTrue\u001b[39;00m\n\u001b[1;32m     31\u001b[0m     )[\u001b[38;5;241m0\u001b[39m]\n\u001b[1;32m     32\u001b[0m \u001b[38;5;28;01melif\u001b[39;00m backend_name \u001b[38;5;241m==\u001b[39m \u001b[38;5;124m\"\u001b[39m\u001b[38;5;124mjax\u001b[39m\u001b[38;5;124m\"\u001b[39m:\n\u001b[1;32m     33\u001b[0m     \u001b[38;5;66;03m# Here, we use jax.grad to compute the gradient of a function. This is\u001b[39;00m\n\u001b[1;32m     34\u001b[0m     \u001b[38;5;66;03m# different from TensorFlow and PyTorch that the input of a function is\u001b[39;00m\n\u001b[0;32m   (...)\u001b[0m\n\u001b[1;32m     41\u001b[0m     \u001b[38;5;66;03m# the full Jacobian matrix efficiently, if needed. Another option is\u001b[39;00m\n\u001b[1;32m     42\u001b[0m     \u001b[38;5;66;03m# jax.vjp + jax.vmap.\u001b[39;00m\n\u001b[1;32m     43\u001b[0m     grad_fn \u001b[38;5;241m=\u001b[39m jax\u001b[38;5;241m.\u001b[39mgrad(\u001b[38;5;28;01mlambda\u001b[39;00m x: \u001b[38;5;28mself\u001b[39m\u001b[38;5;241m.\u001b[39mys[\u001b[38;5;241m1\u001b[39m](x)[i])\n",
      "File \u001b[0;32m~/anaconda3/lib/python3.12/site-packages/torch/autograd/__init__.py:385\u001b[0m, in \u001b[0;36mgrad\u001b[0;34m(outputs, inputs, grad_outputs, retain_graph, create_graph, only_inputs, allow_unused, is_grads_batched, materialize_grads)\u001b[0m\n\u001b[1;32m    383\u001b[0m overridable_args \u001b[38;5;241m=\u001b[39m t_outputs \u001b[38;5;241m+\u001b[39m t_inputs\n\u001b[1;32m    384\u001b[0m \u001b[38;5;28;01mif\u001b[39;00m has_torch_function(overridable_args):\n\u001b[0;32m--> 385\u001b[0m     \u001b[38;5;28;01mreturn\u001b[39;00m handle_torch_function(\n\u001b[1;32m    386\u001b[0m         grad,\n\u001b[1;32m    387\u001b[0m         overridable_args,\n\u001b[1;32m    388\u001b[0m         t_outputs,\n\u001b[1;32m    389\u001b[0m         inputs,\n\u001b[1;32m    390\u001b[0m         grad_outputs\u001b[38;5;241m=\u001b[39mgrad_outputs,\n\u001b[1;32m    391\u001b[0m         retain_graph\u001b[38;5;241m=\u001b[39mretain_graph,\n\u001b[1;32m    392\u001b[0m         create_graph\u001b[38;5;241m=\u001b[39mcreate_graph,\n\u001b[1;32m    393\u001b[0m         only_inputs\u001b[38;5;241m=\u001b[39monly_inputs,\n\u001b[1;32m    394\u001b[0m         allow_unused\u001b[38;5;241m=\u001b[39mallow_unused,\n\u001b[1;32m    395\u001b[0m         is_grads_batched\u001b[38;5;241m=\u001b[39mis_grads_batched,\n\u001b[1;32m    396\u001b[0m         materialize_grads\u001b[38;5;241m=\u001b[39mmaterialize_grads,\n\u001b[1;32m    397\u001b[0m     )\n\u001b[1;32m    399\u001b[0m \u001b[38;5;28;01mif\u001b[39;00m \u001b[38;5;129;01mnot\u001b[39;00m only_inputs:\n\u001b[1;32m    400\u001b[0m     warnings\u001b[38;5;241m.\u001b[39mwarn(\n\u001b[1;32m    401\u001b[0m         \u001b[38;5;124m\"\u001b[39m\u001b[38;5;124monly_inputs argument is deprecated and is ignored now \u001b[39m\u001b[38;5;124m\"\u001b[39m\n\u001b[1;32m    402\u001b[0m         \u001b[38;5;124m\"\u001b[39m\u001b[38;5;124m(defaults to True). To accumulate gradient for other \u001b[39m\u001b[38;5;124m\"\u001b[39m\n\u001b[0;32m   (...)\u001b[0m\n\u001b[1;32m    405\u001b[0m         stacklevel\u001b[38;5;241m=\u001b[39m\u001b[38;5;241m2\u001b[39m,\n\u001b[1;32m    406\u001b[0m     )\n",
      "File \u001b[0;32m~/anaconda3/lib/python3.12/site-packages/torch/overrides.py:1630\u001b[0m, in \u001b[0;36mhandle_torch_function\u001b[0;34m(public_api, relevant_args, *args, **kwargs)\u001b[0m\n\u001b[1;32m   1626\u001b[0m \u001b[38;5;28;01mif\u001b[39;00m _is_torch_function_mode_enabled():\n\u001b[1;32m   1627\u001b[0m     \u001b[38;5;66;03m# if we're here, the mode must be set to a TorchFunctionStackMode\u001b[39;00m\n\u001b[1;32m   1628\u001b[0m     \u001b[38;5;66;03m# this unsets it and calls directly into TorchFunctionStackMode's torch function\u001b[39;00m\n\u001b[1;32m   1629\u001b[0m     \u001b[38;5;28;01mwith\u001b[39;00m _pop_mode_temporarily() \u001b[38;5;28;01mas\u001b[39;00m mode:\n\u001b[0;32m-> 1630\u001b[0m         result \u001b[38;5;241m=\u001b[39m mode\u001b[38;5;241m.\u001b[39m__torch_function__(public_api, types, args, kwargs)\n\u001b[1;32m   1631\u001b[0m     \u001b[38;5;28;01mif\u001b[39;00m result \u001b[38;5;129;01mis\u001b[39;00m \u001b[38;5;129;01mnot\u001b[39;00m \u001b[38;5;28mNotImplemented\u001b[39m:\n\u001b[1;32m   1632\u001b[0m         \u001b[38;5;28;01mreturn\u001b[39;00m result\n",
      "File \u001b[0;32m~/anaconda3/lib/python3.12/site-packages/torch/utils/_device.py:79\u001b[0m, in \u001b[0;36mDeviceContext.__torch_function__\u001b[0;34m(self, func, types, args, kwargs)\u001b[0m\n\u001b[1;32m     77\u001b[0m \u001b[38;5;28;01mif\u001b[39;00m func \u001b[38;5;129;01min\u001b[39;00m _device_constructors() \u001b[38;5;129;01mand\u001b[39;00m kwargs\u001b[38;5;241m.\u001b[39mget(\u001b[38;5;124m'\u001b[39m\u001b[38;5;124mdevice\u001b[39m\u001b[38;5;124m'\u001b[39m) \u001b[38;5;129;01mis\u001b[39;00m \u001b[38;5;28;01mNone\u001b[39;00m:\n\u001b[1;32m     78\u001b[0m     kwargs[\u001b[38;5;124m'\u001b[39m\u001b[38;5;124mdevice\u001b[39m\u001b[38;5;124m'\u001b[39m] \u001b[38;5;241m=\u001b[39m \u001b[38;5;28mself\u001b[39m\u001b[38;5;241m.\u001b[39mdevice\n\u001b[0;32m---> 79\u001b[0m \u001b[38;5;28;01mreturn\u001b[39;00m func(\u001b[38;5;241m*\u001b[39margs, \u001b[38;5;241m*\u001b[39m\u001b[38;5;241m*\u001b[39mkwargs)\n",
      "File \u001b[0;32m~/anaconda3/lib/python3.12/site-packages/torch/autograd/__init__.py:436\u001b[0m, in \u001b[0;36mgrad\u001b[0;34m(outputs, inputs, grad_outputs, retain_graph, create_graph, only_inputs, allow_unused, is_grads_batched, materialize_grads)\u001b[0m\n\u001b[1;32m    432\u001b[0m     result \u001b[38;5;241m=\u001b[39m _vmap_internals\u001b[38;5;241m.\u001b[39m_vmap(vjp, \u001b[38;5;241m0\u001b[39m, \u001b[38;5;241m0\u001b[39m, allow_none_pass_through\u001b[38;5;241m=\u001b[39m\u001b[38;5;28;01mTrue\u001b[39;00m)(\n\u001b[1;32m    433\u001b[0m         grad_outputs_\n\u001b[1;32m    434\u001b[0m     )\n\u001b[1;32m    435\u001b[0m \u001b[38;5;28;01melse\u001b[39;00m:\n\u001b[0;32m--> 436\u001b[0m     result \u001b[38;5;241m=\u001b[39m _engine_run_backward(\n\u001b[1;32m    437\u001b[0m         t_outputs,\n\u001b[1;32m    438\u001b[0m         grad_outputs_,\n\u001b[1;32m    439\u001b[0m         retain_graph,\n\u001b[1;32m    440\u001b[0m         create_graph,\n\u001b[1;32m    441\u001b[0m         inputs,\n\u001b[1;32m    442\u001b[0m         allow_unused,\n\u001b[1;32m    443\u001b[0m         accumulate_grad\u001b[38;5;241m=\u001b[39m\u001b[38;5;28;01mFalse\u001b[39;00m,\n\u001b[1;32m    444\u001b[0m     )\n\u001b[1;32m    445\u001b[0m \u001b[38;5;28;01mif\u001b[39;00m materialize_grads:\n\u001b[1;32m    446\u001b[0m     \u001b[38;5;28;01mif\u001b[39;00m \u001b[38;5;28many\u001b[39m(\n\u001b[1;32m    447\u001b[0m         result[i] \u001b[38;5;129;01mis\u001b[39;00m \u001b[38;5;28;01mNone\u001b[39;00m \u001b[38;5;129;01mand\u001b[39;00m \u001b[38;5;129;01mnot\u001b[39;00m is_tensor_like(inputs[i])\n\u001b[1;32m    448\u001b[0m         \u001b[38;5;28;01mfor\u001b[39;00m i \u001b[38;5;129;01min\u001b[39;00m \u001b[38;5;28mrange\u001b[39m(\u001b[38;5;28mlen\u001b[39m(inputs))\n\u001b[1;32m    449\u001b[0m     ):\n",
      "File \u001b[0;32m~/anaconda3/lib/python3.12/site-packages/torch/autograd/graph.py:768\u001b[0m, in \u001b[0;36m_engine_run_backward\u001b[0;34m(t_outputs, *args, **kwargs)\u001b[0m\n\u001b[1;32m    766\u001b[0m     unregister_hooks \u001b[38;5;241m=\u001b[39m _register_logging_hooks_on_whole_graph(t_outputs)\n\u001b[1;32m    767\u001b[0m \u001b[38;5;28;01mtry\u001b[39;00m:\n\u001b[0;32m--> 768\u001b[0m     \u001b[38;5;28;01mreturn\u001b[39;00m Variable\u001b[38;5;241m.\u001b[39m_execution_engine\u001b[38;5;241m.\u001b[39mrun_backward(  \u001b[38;5;66;03m# Calls into the C++ engine to run the backward pass\u001b[39;00m\n\u001b[1;32m    769\u001b[0m         t_outputs, \u001b[38;5;241m*\u001b[39margs, \u001b[38;5;241m*\u001b[39m\u001b[38;5;241m*\u001b[39mkwargs\n\u001b[1;32m    770\u001b[0m     )  \u001b[38;5;66;03m# Calls into the C++ engine to run the backward pass\u001b[39;00m\n\u001b[1;32m    771\u001b[0m \u001b[38;5;28;01mfinally\u001b[39;00m:\n\u001b[1;32m    772\u001b[0m     \u001b[38;5;28;01mif\u001b[39;00m attach_logging_hooks:\n",
      "\u001b[0;31mOutOfMemoryError\u001b[0m: CUDA out of memory. Tried to allocate 20.00 MiB. GPU 0 has a total capacity of 3.95 GiB of which 10.19 MiB is free. Process 238933 has 2.21 GiB memory in use. Process 301242 has 1.17 GiB memory in use. Including non-PyTorch memory, this process has 75.12 MiB memory in use. Of the allocated memory 20.41 MiB is allocated by PyTorch, and 5.59 MiB is reserved by PyTorch but unallocated. If reserved but unallocated memory is large try setting PYTORCH_CUDA_ALLOC_CONF=expandable_segments:True to avoid fragmentation.  See documentation for Memory Management  (https://pytorch.org/docs/stable/notes/cuda.html#environment-variables)"
     ]
    }
   ],
   "source": [
    "net = dde.maps.FNN([3] + [10]*2 + [3], \"sin\", \"Glorot normal\")\n",
    "\n",
    "# Define the model\n",
    "data = dde.data.TimePDE(\n",
    "    geomtime, pde, [ic1,ic2,ic3,ic_u,ic_v], num_domain=50000, num_boundary=10000\n",
    ")\n",
    "model = dde.Model(data, net)\n",
    "checkpointer = dde.callbacks.ModelCheckpoint(\n",
    "     \"model/model\", verbose=1, save_better_only=True\n",
    ")\n",
    "# Compile and train the model\n",
    "model.compile(\"adam\", lr=1e-3,)\n",
    "losshistory, train_state = model.train(epochs=10000, callbacks=[checkpointer,])\n",
    "\n",
    "#model.compile(\"L-BFGS\")\n",
    "#model.train()\n",
    "\n",
    "\n",
    "dde.saveplot(losshistory, train_state, issave=True, isplot=True)\n"
   ]
  }
 ],
 "metadata": {
  "kernelspec": {
   "display_name": "base",
   "language": "python",
   "name": "python3"
  },
  "language_info": {
   "codemirror_mode": {
    "name": "ipython",
    "version": 3
   },
   "file_extension": ".py",
   "mimetype": "text/x-python",
   "name": "python",
   "nbconvert_exporter": "python",
   "pygments_lexer": "ipython3",
   "version": "3.12.4"
  }
 },
 "nbformat": 4,
 "nbformat_minor": 2
}
